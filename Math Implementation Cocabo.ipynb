{
 "cells": [
  {
   "cell_type": "markdown",
   "metadata": {},
   "source": [
    "Math implementation \n",
    "\n",
    "Reference from Ru Paper that proposes the novel CoCabo Approach. Tehre are further literature suggestions:\n",
    "\n",
    "Carlucci et al. 2020 further explaining MAB philosophy and how categorical values are coordinated inthe multi agent system\n",
    "\n",
    "Auer et al. 2002b where EXP3 originates from one of the original ideas in where a a categorical variable is selected by MAB constructing a GP surrogate specific to the chosen cateogry for modelling the continuous domain without sharing information across different categories (however this incurs quite a bit of computation)\n",
    "\n",
    "Nguyen et al 2019 proposes a Thmpson sampling method to BO using the above approach"
   ]
  },
  {
   "cell_type": "code",
   "execution_count": null,
   "metadata": {},
   "outputs": [],
   "source": [
    "# Combine the Matern and Category Overlap Kernels using the formula\n",
    "K = (1 - self.lambda_param) * (matern_matrix + category_overlap_matrix) + (self.lambda_param * matern_matrix * category_overlap_matrix)  # Ru's multiplication + summation\n"
   ]
  },
  {
   "cell_type": "markdown",
   "metadata": {},
   "source": []
  },
  {
   "cell_type": "markdown",
   "metadata": {},
   "source": [
    "They use a general adversarial bandit setting (assumption from EXP3) to handle the non-stationary-ness of the rewards in categorical variables (Allesiardo et al 2017 for more info on this).\n",
    "\n",
    "Critically this allows the MAB to make fewere assumptions on reward distributions, allowing for cheaper computation. But most importantly, the MAB decides values for categorical inpputs, therefore we only need to optimize the acquisition function over the continuous subspace (big X, maybe it's a CHI), which is a subspace of all Real data (given our limit of requiring experimental data to fill information) this allows for a mathematically sound approach to efficiently compute over categorical and continuous values\n",
    "\n",
    "Let's read Appendix C and implement some of its math to make sense of it."
   ]
  },
  {
   "cell_type": "code",
   "execution_count": null,
   "metadata": {},
   "outputs": [],
   "source": [
    "category_overlap_matrix = variance/cat_dim(sum())"
   ]
  }
 ],
 "metadata": {
  "language_info": {
   "name": "python"
  }
 },
 "nbformat": 4,
 "nbformat_minor": 2
}
