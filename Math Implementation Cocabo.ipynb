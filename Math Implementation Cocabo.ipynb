{
 "cells": [
  {
   "cell_type": "markdown",
   "metadata": {},
   "source": [
    "Math implementation \n",
    "\n",
    "Reference from Ru Paper that proposes the novel CoCabo Approach. Tehre are further literature suggestions:\n",
    "\n",
    "Carlucci et al. 2020 further explaining MAB philosophy and how categorical values are coordinated inthe multi agent system\n",
    "\n",
    "Auer et al. 2002b where EXP3 originates from one of the original ideas in where a a categorical variable is selected by MAB constructing a GP surrogate specific to the chosen cateogry for modelling the continuous domain without sharing information across different categories (however this incurs quite a bit of computation)\n",
    "\n",
    "Nguyen et al 2019 proposes a Thmpson sampling method to BO using the above approach"
   ]
  },
  {
   "cell_type": "code",
   "execution_count": null,
   "metadata": {},
   "outputs": [],
   "source": [
    "# Combine the Matern and Category Overlap Kernels using the formula\n",
    "K = (1 - self.lambda_param) * (matern_matrix + category_overlap_matrix) + (self.lambda_param * matern_matrix * category_overlap_matrix)  # Ru's multiplication + summation\n"
   ]
  },
  {
   "cell_type": "markdown",
   "metadata": {},
   "source": []
  },
  {
   "cell_type": "code",
   "execution_count": null,
   "metadata": {},
   "outputs": [],
   "source": [
    "category_overlap_matrix = variance/cat_dim(sum())"
   ]
  }
 ],
 "metadata": {
  "language_info": {
   "name": "python"
  }
 },
 "nbformat": 4,
 "nbformat_minor": 2
}
