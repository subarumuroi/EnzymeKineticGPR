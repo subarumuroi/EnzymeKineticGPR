{
 "cells": [
  {
   "cell_type": "code",
   "execution_count": 1,
   "metadata": {},
   "outputs": [],
   "source": [
    "# Partial least squares methods\n",
    "\n",
    "import pandas as pd\n",
    "import numpy as np\n",
    "import seaborn as sns\n",
    "import matplotlib.pyplot as plt\n",
    "import plotly.express as px\n",
    "\n",
    "from mpl_toolkits.mplot3d import Axes3D\n",
    "from sklearn.preprocessing import StandardScaler\n",
    "from sklearn.decomposition import PCA, FastICA\n",
    "from sklearn.cross_decomposition import PLSRegression\n",
    "from sklearn.discriminant_analysis import LinearDiscriminantAnalysis\n",
    "from sklearn.metrics import classification_report, confusion_matrix\n",
    "from scipy.stats import shapiro, anderson, norm\n",
    "\n",
    "from sklearn.model_selection import KFold, LeaveOneOut\n",
    "from sklearn.metrics import mean_absolute_error, mean_squared_error, r2_score\n",
    "\n",
    "import umap as U \n"
   ]
  },
  {
   "cell_type": "code",
   "execution_count": 2,
   "metadata": {},
   "outputs": [
    {
     "name": "stdout",
     "output_type": "stream",
     "text": [
      "               SAH1      MET6      SAM2      SAM1       ADOI       SER3  \\\n",
      "UQ Strain                                                                 \n",
      "VAN_011    0.476754  0.726056  8.390562  3.466260   0.826203   0.332212   \n",
      "VAN_022    0.501503  0.658658  0.833097  1.069050   0.899388   2.937712   \n",
      "VAN_024    0.489304  0.776491  0.848666  1.006409   1.223536   0.015000   \n",
      "VAN_034    0.518499  0.560981  0.806098  0.900420   0.705531  38.200194   \n",
      "VAN_035    0.563034  0.680219  0.961508  0.946449   0.747693  30.411039   \n",
      "...             ...       ...       ...       ...        ...        ...   \n",
      "VAN_391    4.271964  3.200832  3.767812  2.142580   1.235859   1.388874   \n",
      "VAN_392    0.715643  1.176335  1.154362  1.119098   1.147058  55.464613   \n",
      "VAN_393    0.731537  1.676646  1.641193  1.302600  22.974646   2.837416   \n",
      "VAN_396    0.879216  0.952300  8.880651  4.468680   0.990007   1.930996   \n",
      "VAN_REF7   1.000000  1.000000  1.000000  1.000000   1.000000   1.000000   \n",
      "\n",
      "                SER1       SER2       SHM2       GCV1  ...      GLY1  \\\n",
      "UQ Strain                                              ...             \n",
      "VAN_011     0.754135   0.411679   0.998815   0.898551  ...  2.127864   \n",
      "VAN_022     0.801238   0.761795   1.298253   0.837703  ...  2.181199   \n",
      "VAN_024     0.741116   1.180847   1.561218   0.734325  ...  2.769665   \n",
      "VAN_034     4.410160  55.463346   2.873580  10.658983  ...  2.533200   \n",
      "VAN_035     9.895921  46.364510  10.104662   0.426776  ...  1.540165   \n",
      "...              ...        ...        ...        ...  ...       ...   \n",
      "VAN_391     0.902978   0.672641   1.198732   0.957912  ...  1.270514   \n",
      "VAN_392    21.470281  86.223800   8.818022   0.411483  ...  1.761886   \n",
      "VAN_393     1.117712  57.615386   1.314083   0.555048  ...  1.502888   \n",
      "VAN_396     1.233263   3.163067   8.846719   0.454270  ...  1.363476   \n",
      "VAN_REF7    1.000000   1.000000   1.000000   1.000000  ...  1.000000   \n",
      "\n",
      "               FUM1      ICL1      MAE1      ALD6      ZWF1       PYC1  \\\n",
      "UQ Strain                                                                \n",
      "VAN_011    1.102203  1.579769  0.698614  1.081256  0.923872   0.659305   \n",
      "VAN_022    1.237751  1.438013  0.733366  0.955830  0.977411   0.767493   \n",
      "VAN_024    1.599446  0.812849  0.468302  1.672588  1.196274   0.977780   \n",
      "VAN_034    1.080014  1.284588  0.518988  0.966277  0.920277   0.723137   \n",
      "VAN_035    1.087509  1.130507  0.500865  1.057437  0.944464   0.763046   \n",
      "...             ...       ...       ...       ...       ...        ...   \n",
      "VAN_391    1.275538  1.109752  0.578499  1.437170  0.886928  10.383926   \n",
      "VAN_392    1.047957  0.893818  0.532790  1.437799  0.788764  10.765683   \n",
      "VAN_393    1.018679  0.741370  0.842704  1.425948  0.973828   0.984545   \n",
      "VAN_396    1.061467  0.667878  0.812611  1.377064  0.991829   0.786132   \n",
      "VAN_REF7   1.000000  1.000000  1.000000  1.000000  1.000000   1.000000   \n",
      "\n",
      "               AGX1      SOL3       PCK1  \n",
      "UQ Strain                                 \n",
      "VAN_011    0.589698  0.662589   0.679422  \n",
      "VAN_022    0.471177  0.617561   1.125308  \n",
      "VAN_024    0.649727  2.160497  22.230852  \n",
      "VAN_034    0.543387  0.988908   1.114454  \n",
      "VAN_035    0.723159  1.219408   0.723713  \n",
      "...             ...       ...        ...  \n",
      "VAN_391    0.936177  1.353914  25.471868  \n",
      "VAN_392    0.900375  1.448276  24.937900  \n",
      "VAN_393    0.854636  1.420262   0.146035  \n",
      "VAN_396    0.898314  0.947551   0.266882  \n",
      "VAN_REF7   1.000000  1.000000   1.000000  \n",
      "\n",
      "[64 rows x 44 columns]\n",
      "(64, 44)\n"
     ]
    }
   ],
   "source": [
    "df = pd.read_excel(r'C:\\Users\\uqkmuroi\\Desktop\\Van3_results.xlsx', header = 0)\n",
    "\n",
    "# as there are many missing columns, and some columns with missing values, we remake columns by specifying their excel equivalent\n",
    "#I chose to remove any columns with no values, and columns with many missing values\n",
    "columns_prot = df.iloc[:,\n",
    "    list(range(183,202)) + # GB to GT\n",
    "    [206] + # GY\n",
    "    list(range(209, 214)) + # HB to HF\n",
    "    list(range(216, 225)) + # HI to HQ\n",
    "    [226] + # HS\n",
    "    list(range(228, 237))] # HU to IC\n",
    "\n",
    "# we also want the UQ strain column as it helps group the rows by experiments (since we're tryin to extract one value from each experiment)\n",
    "column_strain = df['UQ Strain']\n",
    "\n",
    "# we combine the two column sets from above\n",
    "grouped = pd.concat([column_strain, columns_prot], axis=1)\n",
    "\n",
    "# group by uq strain\n",
    "grouped = grouped.groupby('UQ Strain')\n",
    "\n",
    "# this extacts the max value (which is equivalent to the only value per experiment)\n",
    "group = grouped.max()\n",
    "\n",
    "# remove the last row as it is Nan \n",
    "# group = group.iloc[:-1]\n",
    "\n",
    "# actually since the last row is the reference, I will change them to 1.0 \n",
    "group.iloc[-1] = 1.0\n",
    "print (group)\n",
    "print(group.shape)"
   ]
  },
  {
   "cell_type": "code",
   "execution_count": 3,
   "metadata": {},
   "outputs": [
    {
     "name": "stdout",
     "output_type": "stream",
     "text": [
      "SAH1     0\n",
      "MET6     0\n",
      "SAM2     0\n",
      "SAM1     0\n",
      "ADOI     0\n",
      "SER3     1\n",
      "SER1     0\n",
      "SER2     1\n",
      "SHM2     0\n",
      "GCV1     0\n",
      "GCV2     0\n",
      "GCV3     0\n",
      "LPD1     0\n",
      "MET13    0\n",
      "FDH1     2\n",
      "ADE3     0\n",
      "MIS1     0\n",
      "SNZ1     0\n",
      "MET7     0\n",
      "CBF1     1\n",
      "CYS4     0\n",
      "CYS3     0\n",
      "HOM3     0\n",
      "HOM2     0\n",
      "HOM6     0\n",
      "MET3     0\n",
      "MET14    0\n",
      "MET16    2\n",
      "MET10    0\n",
      "MET5     0\n",
      "MET2     0\n",
      "MET17    0\n",
      "CHO2     2\n",
      "OPI3     0\n",
      "GLY1     0\n",
      "FUM1     0\n",
      "ICL1     0\n",
      "MAE1     0\n",
      "ALD6     0\n",
      "ZWF1     0\n",
      "PYC1     0\n",
      "AGX1     0\n",
      "SOL3     0\n",
      "PCK1     3\n",
      "dtype: int64\n"
     ]
    }
   ],
   "source": [
    "nan_count = group.isna().sum()\n",
    "\n",
    "print (nan_count)"
   ]
  },
  {
   "cell_type": "code",
   "execution_count": 4,
   "metadata": {},
   "outputs": [
    {
     "name": "stdout",
     "output_type": "stream",
     "text": [
      "               SAH1      MET6      SAM2      SAM1       ADOI       SER3  \\\n",
      "UQ Strain                                                                 \n",
      "VAN_011    0.476754  0.726056  8.390562  3.466260   0.826203   0.332212   \n",
      "VAN_022    0.501503  0.658658  0.833097  1.069050   0.899388   2.937712   \n",
      "VAN_024    0.489304  0.776491  0.848666  1.006409   1.223536   0.015000   \n",
      "VAN_034    0.518499  0.560981  0.806098  0.900420   0.705531  38.200194   \n",
      "VAN_035    0.563034  0.680219  0.961508  0.946449   0.747693  30.411039   \n",
      "...             ...       ...       ...       ...        ...        ...   \n",
      "VAN_391    4.271964  3.200832  3.767812  2.142580   1.235859   1.388874   \n",
      "VAN_392    0.715643  1.176335  1.154362  1.119098   1.147058  55.464613   \n",
      "VAN_393    0.731537  1.676646  1.641193  1.302600  22.974646   2.837416   \n",
      "VAN_396    0.879216  0.952300  8.880651  4.468680   0.990007   1.930996   \n",
      "VAN_REF7   1.000000  1.000000  1.000000  1.000000   1.000000   1.000000   \n",
      "\n",
      "                SER1       SER2       SHM2       GCV1  ...      GLY1  \\\n",
      "UQ Strain                                              ...             \n",
      "VAN_011     0.754135   0.411679   0.998815   0.898551  ...  2.127864   \n",
      "VAN_022     0.801238   0.761795   1.298253   0.837703  ...  2.181199   \n",
      "VAN_024     0.741116   1.180847   1.561218   0.734325  ...  2.769665   \n",
      "VAN_034     4.410160  55.463346   2.873580  10.658983  ...  2.533200   \n",
      "VAN_035     9.895921  46.364510  10.104662   0.426776  ...  1.540165   \n",
      "...              ...        ...        ...        ...  ...       ...   \n",
      "VAN_391     0.902978   0.672641   1.198732   0.957912  ...  1.270514   \n",
      "VAN_392    21.470281  86.223800   8.818022   0.411483  ...  1.761886   \n",
      "VAN_393     1.117712  57.615386   1.314083   0.555048  ...  1.502888   \n",
      "VAN_396     1.233263   3.163067   8.846719   0.454270  ...  1.363476   \n",
      "VAN_REF7    1.000000   1.000000   1.000000   1.000000  ...  1.000000   \n",
      "\n",
      "               FUM1      ICL1      MAE1      ALD6      ZWF1       PYC1  \\\n",
      "UQ Strain                                                                \n",
      "VAN_011    1.102203  1.579769  0.698614  1.081256  0.923872   0.659305   \n",
      "VAN_022    1.237751  1.438013  0.733366  0.955830  0.977411   0.767493   \n",
      "VAN_024    1.599446  0.812849  0.468302  1.672588  1.196274   0.977780   \n",
      "VAN_034    1.080014  1.284588  0.518988  0.966277  0.920277   0.723137   \n",
      "VAN_035    1.087509  1.130507  0.500865  1.057437  0.944464   0.763046   \n",
      "...             ...       ...       ...       ...       ...        ...   \n",
      "VAN_391    1.275538  1.109752  0.578499  1.437170  0.886928  10.383926   \n",
      "VAN_392    1.047957  0.893818  0.532790  1.437799  0.788764  10.765683   \n",
      "VAN_393    1.018679  0.741370  0.842704  1.425948  0.973828   0.984545   \n",
      "VAN_396    1.061467  0.667878  0.812611  1.377064  0.991829   0.786132   \n",
      "VAN_REF7   1.000000  1.000000  1.000000  1.000000  1.000000   1.000000   \n",
      "\n",
      "               AGX1      SOL3       PCK1  \n",
      "UQ Strain                                 \n",
      "VAN_011    0.589698  0.662589   0.679422  \n",
      "VAN_022    0.471177  0.617561   1.125308  \n",
      "VAN_024    0.649727  2.160497  22.230852  \n",
      "VAN_034    0.543387  0.988908   1.114454  \n",
      "VAN_035    0.723159  1.219408   0.723713  \n",
      "...             ...       ...        ...  \n",
      "VAN_391    0.936177  1.353914  25.471868  \n",
      "VAN_392    0.900375  1.448276  24.937900  \n",
      "VAN_393    0.854636  1.420262   0.146035  \n",
      "VAN_396    0.898314  0.947551   0.266882  \n",
      "VAN_REF7   1.000000  1.000000   1.000000  \n",
      "\n",
      "[64 rows x 44 columns]\n",
      "(64, 44)\n"
     ]
    }
   ],
   "source": [
    "# calculate column-wise means\n",
    "column_means = group.mean()\n",
    "\n",
    "# replace NaN values\n",
    "group_filled = group.fillna(column_means)\n",
    "\n",
    "print(group_filled)\n",
    "print(group_filled.shape)"
   ]
  },
  {
   "cell_type": "code",
   "execution_count": 5,
   "metadata": {},
   "outputs": [
    {
     "name": "stdout",
     "output_type": "stream",
     "text": [
      "(64, 44)\n"
     ]
    }
   ],
   "source": [
    "#OPTIONAL use this block to log tranform data without affecting how the rest of the codw works\n",
    "\n",
    "group_filled= np.log10(group_filled)\n",
    "\n",
    "print(group_filled.shape)"
   ]
  },
  {
   "cell_type": "code",
   "execution_count": 6,
   "metadata": {},
   "outputs": [],
   "source": [
    "X_scaler= StandardScaler()\n",
    "X_scaled = X_scaler.fit_transform(group_filled)"
   ]
  },
  {
   "cell_type": "code",
   "execution_count": 7,
   "metadata": {},
   "outputs": [
    {
     "name": "stdout",
     "output_type": "stream",
     "text": [
      "UQ Strain\n",
      "VAN_011     4952.447068\n",
      "VAN_022     1164.833526\n",
      "VAN_024     2909.079446\n",
      "VAN_034     3843.687074\n",
      "VAN_035     4110.693695\n",
      "               ...     \n",
      "VAN_391     6482.053633\n",
      "VAN_392     3669.222194\n",
      "VAN_393     3693.414898\n",
      "VAN_396     2958.085578\n",
      "VAN_REF7    3192.759655\n",
      "Name: Vanillate DAD_G 274nm_tot, Length: 64, dtype: float64\n"
     ]
    }
   ],
   "source": [
    "grouped = df.groupby('UQ Strain')\n",
    "y = grouped['Vanillate DAD_G 274nm_tot'].max()\n",
    "print(y)"
   ]
  },
  {
   "cell_type": "code",
   "execution_count": 11,
   "metadata": {},
   "outputs": [
    {
     "name": "stdout",
     "output_type": "stream",
     "text": [
      "Average test score (MSE): 2546592.015716029\n",
      "test scores (MSE): [2226506.790503396, 3054575.7263669195, 3419710.307354897, 2477346.0929353884, 1554821.1614195427]\n",
      "Average training score (MSE): 1058668.7549915817\n",
      "Average r2 tests: -0.16864465096227851\n",
      "test r2 scores [0.03278834843493594, -0.6432030197060015, -0.2743706878311849, -0.21057717191501002, 0.25213927620586796]\n",
      "Average r2 training score 0.5382703233605748\n"
     ]
    },
    {
     "name": "stderr",
     "output_type": "stream",
     "text": [
      "C:\\Users\\uqkmuroi\\AppData\\Local\\Temp\\ipykernel_8296\\3758385865.py:22: FutureWarning: Series.__getitem__ treating keys as positions is deprecated. In a future version, integer keys will always be treated as labels (consistent with DataFrame behavior). To access a value by position, use `ser.iloc[pos]`\n",
      "  y_train, y_test = y[train_index], y[test_index]\n",
      "C:\\Users\\uqkmuroi\\AppData\\Local\\Temp\\ipykernel_8296\\3758385865.py:22: FutureWarning: Series.__getitem__ treating keys as positions is deprecated. In a future version, integer keys will always be treated as labels (consistent with DataFrame behavior). To access a value by position, use `ser.iloc[pos]`\n",
      "  y_train, y_test = y[train_index], y[test_index]\n",
      "C:\\Users\\uqkmuroi\\AppData\\Local\\Temp\\ipykernel_8296\\3758385865.py:22: FutureWarning: Series.__getitem__ treating keys as positions is deprecated. In a future version, integer keys will always be treated as labels (consistent with DataFrame behavior). To access a value by position, use `ser.iloc[pos]`\n",
      "  y_train, y_test = y[train_index], y[test_index]\n",
      "C:\\Users\\uqkmuroi\\AppData\\Local\\Temp\\ipykernel_8296\\3758385865.py:22: FutureWarning: Series.__getitem__ treating keys as positions is deprecated. In a future version, integer keys will always be treated as labels (consistent with DataFrame behavior). To access a value by position, use `ser.iloc[pos]`\n",
      "  y_train, y_test = y[train_index], y[test_index]\n",
      "C:\\Users\\uqkmuroi\\AppData\\Local\\Temp\\ipykernel_8296\\3758385865.py:22: FutureWarning: Series.__getitem__ treating keys as positions is deprecated. In a future version, integer keys will always be treated as labels (consistent with DataFrame behavior). To access a value by position, use `ser.iloc[pos]`\n",
      "  y_train, y_test = y[train_index], y[test_index]\n"
     ]
    },
    {
     "data": {
      "text/plain": [
       "'\\ntest_score_original =y_scaler.inverse_transform(test_scores)\\nprint(f\"Test MSE on original scale: {test_score_original}\")\\n'"
      ]
     },
     "execution_count": 11,
     "metadata": {},
     "output_type": "execute_result"
    }
   ],
   "source": [
    "n_splits = 5 #the number of k-fold splits (usually 5 or 10)\n",
    "n_components = 2 # latent variables in PLS\n",
    "\n",
    "#define the kfold\n",
    "kf = KFold(n_splits = n_splits, shuffle = True, random_state=42)\n",
    "\n",
    "\n",
    "#You can pick the model here: Since Decision Tree performed quite well, we can try that\n",
    "model = PLSRegression(n_components = n_components)\n",
    "#model = GaussianProcessRegressor()\n",
    "\n",
    "#create list to store results\n",
    "train_scores = []\n",
    "test_scores = []\n",
    "r2_train=[]\n",
    "r2_test=[]\n",
    "\n",
    "#perform cross val\n",
    "for train_index, test_index in kf.split(X_scaled):\n",
    "    #split the data  into training and testing sets\n",
    "    X_train, X_test = X_scaled[train_index], X_scaled[test_index]\n",
    "    y_train, y_test = y[train_index], y[test_index]\n",
    "\n",
    "\n",
    "    # turn off the line above and turn on below to change to the 6th time-point (instaed of all 6 Van tot/ time value)\n",
    "    #y_train, y_test = y_last_scaled[train_index], y_last_scaled[test_index]\n",
    "\n",
    "    #train the model\n",
    "    model.fit(X_train, y_train)\n",
    "\n",
    "    #make predictions on the test set\n",
    "    y_pred = model.predict(X_test)\n",
    "\n",
    "    #evaluate model\n",
    "    test_score = mean_squared_error(y_test, y_pred)\n",
    "    r2_test_score = r2_score(y_test, y_pred)\n",
    "\n",
    "    #store results\n",
    "    test_scores.append(test_score)\n",
    "    r2_test.append(r2_test_score)\n",
    "\n",
    "    #store training scores\n",
    "    train_score = mean_squared_error(y_train, model.predict(X_train))\n",
    "    train_scores.append(train_score)\n",
    "    r2_train_score = r2_score(y_train, model.predict(X_train))\n",
    "    r2_train.append(r2_train_score)\n",
    "\n",
    "#print results (average across all folds)\n",
    "print(f\"Average test score (MSE): {np.mean(test_scores)}\")\n",
    "print(f\"test scores (MSE): {test_scores}\")\n",
    "print(f\"Average training score (MSE): {np.mean(train_scores)}\")\n",
    "print(f\"Average r2 tests: {np.mean(r2_test)}\")\n",
    "print(f\"test r2 scores {r2_test}\")\n",
    "print(f\"Average r2 training score {np.mean(r2_train)}\")\n",
    "\n",
    "\n",
    "#Check that the error above is appropriate.\n",
    "\n",
    "'''\n",
    "# After making predictions\n",
    "y_pred_original = y_scaler.inverse_transform(y_pred)\n",
    "y_test_original = y_scaler.inverse_transform(y_test)\n",
    "\n",
    "# Calculate MSE on the original scale\n",
    "#test_score_original = mean_squared_error(y_test_original, y_pred_original)\n",
    "'''\n",
    "'''\n",
    "test_score_original =y_scaler.inverse_transform(test_scores)\n",
    "print(f\"Test MSE on original scale: {test_score_original}\")\n",
    "'''"
   ]
  },
  {
   "cell_type": "code",
   "execution_count": 23,
   "metadata": {},
   "outputs": [
    {
     "name": "stdout",
     "output_type": "stream",
     "text": [
      "float64\n",
      "float64\n",
      "float64\n",
      "float64\n"
     ]
    }
   ],
   "source": [
    "print(y_train.dtype)\n",
    "print(X_train.dtype)\n",
    "print(y_test.dtype)\n",
    "print(y_pred.dtype)"
   ]
  }
 ],
 "metadata": {
  "kernelspec": {
   "display_name": "ML_for_precision_fermentation-7MdyzI83",
   "language": "python",
   "name": "python3"
  },
  "language_info": {
   "codemirror_mode": {
    "name": "ipython",
    "version": 3
   },
   "file_extension": ".py",
   "mimetype": "text/x-python",
   "name": "python",
   "nbconvert_exporter": "python",
   "pygments_lexer": "ipython3",
   "version": "3.12.8"
  }
 },
 "nbformat": 4,
 "nbformat_minor": 2
}
