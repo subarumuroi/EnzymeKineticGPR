{
 "cells": [
  {
   "cell_type": "code",
   "execution_count": 27,
   "metadata": {},
   "outputs": [],
   "source": [
    "import pandas as pd\n",
    "import numpy as np\n",
    "\n",
    "from scipy.stats import norm\n",
    "\n",
    "from sklearn.model_selection import train_test_split\n",
    "from sklearn.model_selection import KFold\n",
    "from sklearn.preprocessing import StandardScaler\n",
    "from sklearn.gaussian_process import GaussianProcessRegressor\n",
    "from sklearn.gaussian_process.kernels import Matern, RBF, RationalQuadratic\n",
    "from sklearn.metrics import mean_absolute_error, mean_squared_error, r2_score"
   ]
  },
  {
   "cell_type": "code",
   "execution_count": null,
   "metadata": {},
   "outputs": [],
   "source": [
    "# Load the data from the Excel file\n",
    "df = pd.read_excel(r'C:\\Users\\uqkmuroi\\Desktop\\count encode and vanillate tot.xlsx')"
   ]
  },
  {
   "cell_type": "code",
   "execution_count": 19,
   "metadata": {},
   "outputs": [],
   "source": [
    "#specify the feature column(x) and target column(y)\n",
    "X = df.iloc[:, :-1].values\n",
    "y = df.iloc[:, -1].values"
   ]
  },
  {
   "cell_type": "code",
   "execution_count": null,
   "metadata": {},
   "outputs": [],
   "source": [
    "# Split into training and testing data (90:10 split)\n",
    "'''\n",
    "X_train, X_test, y_train, y_test = train_test_split(X,y, test_size=0.1, random_state=42)\n",
    "'''"
   ]
  },
  {
   "cell_type": "code",
   "execution_count": 20,
   "metadata": {},
   "outputs": [],
   "source": [
    "# setup K-fold cross validation\n",
    "kf = KFold(n_splits=5, shuffle=True, random_state=42)"
   ]
  },
  {
   "cell_type": "code",
   "execution_count": 43,
   "metadata": {},
   "outputs": [
    {
     "name": "stdout",
     "output_type": "stream",
     "text": [
      "Mean Squared Error for each fold: [np.float64(2219543.8925850224), np.float64(1731155.6128639798), np.float64(3484092.70193188), np.float64(1703488.6541680393), np.float64(1968691.5350832194)]\n",
      "R² score for each fold: [0.03581308477260792, 0.06872823414253004, -0.2983630816561318, 0.16757513888236686, 0.05306982379213987]\n",
      "Average Mean Squared Error: 2221394.479326428\n",
      "Average R² score: 0.00536463998670258\n"
     ]
    }
   ],
   "source": [
    "model = GaussianProcessRegressor(kernel= Matern(length_scale=1.0, nu=0.01), alpha = 1e-4, random_state = 42)\n",
    "\n",
    "# Store metrics (e.g., Mean Squared Error and R²) for each fold\n",
    "mse_list = []\n",
    "r2_list = []\n",
    "\n",
    "# Perform K-fold cross val\n",
    "for train_index, test_index in kf.split(X):\n",
    "    # split data\n",
    "    X_train, X_test = X[train_index], X[test_index]\n",
    "    y_train, y_test = y[train_index], y[test_index]\n",
    "\n",
    "    #fit model on train\n",
    "    model.fit(X_train, y_train)\n",
    "\n",
    "    #predict on test data\n",
    "    y_pred = model.predict(X_test)\n",
    "\n",
    "    # calculate performance metrics\n",
    "    mse = mean_squared_error(y_test, y_pred)\n",
    "    r2 = r2_score(y_test, y_pred)\n",
    "\n",
    "    #store results\n",
    "    mse_list.append(mse)\n",
    "    r2_list.append(r2)\n",
    "\n",
    "# Print the results for all folds\n",
    "print(f\"Mean Squared Error for each fold: {mse_list}\")\n",
    "print(f\"R² score for each fold: {r2_list}\")\n",
    "\n",
    "# Calculate and print the average performance metrics across all folds\n",
    "print(f\"Average Mean Squared Error: {np.mean(mse_list)}\")\n",
    "print(f\"Average R² score: {np.mean(r2_list)}\")"
   ]
  },
  {
   "cell_type": "markdown",
   "metadata": {},
   "source": [
    "The expression you've provided appears to be:\n",
    "\n",
    "\\[\n",
    "\\text{sgn}(\\nu_{\\text{ref}}) \\propto \\frac{\\Delta G_r}{RT}\n",
    "\\]\n",
    "\n",
    "Here, the **sgn** function denotes the **sign function**, as previously mentioned. In this case, it likely indicates the direction of a quantity, \\(\\nu_{\\text{ref}}\\), which could be a reference velocity, reaction rate, or some other vectorial quantity. The sign function returns:\n",
    "\n",
    "- **+1** if \\(\\nu_{\\text{ref}} > 0\\),\n",
    "- **0** if \\(\\nu_{\\text{ref}} = 0\\),\n",
    "- **-1** if \\(\\nu_{\\text{ref}} < 0\\).\n",
    "\n",
    "### Explanation of the other terms:\n",
    "\n",
    "- **\\(\\Delta G_r\\)**: This is the **Gibbs free energy change** for a reaction. It reflects the spontaneity of a process: if \\(\\Delta G_r < 0\\), the process is spontaneous, and if \\(\\Delta G_r > 0\\), the process is non-spontaneous.\n",
    "- **R**: The **universal gas constant**, typically \\(8.314 \\, \\text{J/mol·K}\\).\n",
    "- **T**: The **temperature**, typically in kelvins (K).\n",
    "\n",
    "### What does the expression mean?\n",
    "\n",
    "The expression suggests that the **sign of the reference value** (\\(\\nu_{\\text{ref}}\\)) is related to the ratio of **Gibbs free energy change** (\\(\\Delta G_r\\)) and the product of **temperature** and **gas constant** (RT). In other words, the sign of \\(\\nu_{\\text{ref}}\\) (whether it’s positive, zero, or negative) is determined by the sign of the Gibbs free energy change relative to temperature.\n",
    "\n",
    "- If \\(\\Delta G_r\\) is negative (spontaneous), the sign of \\(\\nu_{\\text{ref}}\\) would be **positive**.\n",
    "- If \\(\\Delta G_r\\) is positive (non-spontaneous), the sign of \\(\\nu_{\\text{ref}}\\) would be **negative**.\n",
    "- If \\(\\Delta G_r\\) is zero, \\(\\nu_{\\text{ref}}\\) could be zero as well.\n",
    "\n",
    "Thus, this expression provides a relationship between thermodynamic spontaneity (via \\(\\Delta G_r\\)) and the direction or behavior of a process as represented by the sign of \\(\\nu_{\\text{ref}}\\)."
   ]
  }
 ],
 "metadata": {
  "kernelspec": {
   "display_name": "ML_for_precision_fermentation-7MdyzI83",
   "language": "python",
   "name": "python3"
  },
  "language_info": {
   "codemirror_mode": {
    "name": "ipython",
    "version": 3
   },
   "file_extension": ".py",
   "mimetype": "text/x-python",
   "name": "python",
   "nbconvert_exporter": "python",
   "pygments_lexer": "ipython3",
   "version": "3.12.7"
  }
 },
 "nbformat": 4,
 "nbformat_minor": 2
}
