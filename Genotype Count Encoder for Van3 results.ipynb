{
 "cells": [
  {
   "cell_type": "code",
   "execution_count": null,
   "metadata": {},
   "outputs": [],
   "source": [
    "import pandas as pd\n",
    "import re\n",
    "\n",
    "# Load the data from the Excel file\n",
    "dataframe = pd.read_excel(r'C:\\Users\\uqkmuroi\\Desktop\\Van3_results.xlsx')\n",
    "\n",
    "# Function to split the Genotype column into a list of genes\n",
    "def list_split(row):\n",
    "    str_list = row['Genotype']\n",
    "    result = re.sub(r'[\\[\\] ]', '', str_list)  # Remove brackets and spaces\n",
    "    return result.split(',')  # Return a list of gene names\n",
    "\n",
    "# Apply the list_split function to create the 'Genotype_list_split' column\n",
    "dataframe['Genotype_list_split'] = dataframe.apply(list_split, axis=1)\n",
    "\n",
    "# Create a list of all unique genes from the Genotype column\n",
    "full_list = []\n",
    "for row in dataframe['Genotype_list_split']:\n",
    "    full_list = full_list + row\n",
    "\n",
    "# Get the unique genes (set removes duplicates)\n",
    "unique_genes = list(set(full_list))\n",
    "\n",
    "# Create a one-hot encoding for each genotype list (using the list format)\n",
    "def one_hot(row):\n",
    "    # Initialize a list of zeros\n",
    "    output = [0] * len(unique_genes)\n",
    "    # Set 1 for each gene present in the genotype list\n",
    "    for gene in row['Genotype_list_split']:\n",
    "        output[unique_genes.index(gene)] += 1  # mark presence of gene\n",
    "    return output\n",
    "\n",
    "# Apply the one-hot encoding to the dataframe\n",
    "dataframe['genotype_one_hot'] = dataframe.apply(one_hot, axis=1)\n",
    "\n",
    "one_hot_columns=pd.DataFrame(dataframe['genotype_one_hot'].tolist(), columns = unique_genes)\n",
    "\n",
    "\n",
    "#creates excel file of count encoded/ one-hot encoded genotypes\n",
    "#one_hot_columns.to_csv('count encoded.csv', index=False)\n",
    " \n"
   ]
  },
  {
   "cell_type": "code",
   "execution_count": 12,
   "metadata": {},
   "outputs": [],
   "source": [
    "# Add the 'Vanillate DAD_G 274nm_tot' column from the original dataframe to the one-hot columns\n",
    "one_hot_columns['Vanillate DAD_G 274nm_tot'] = dataframe['Vanillate DAD_G 274nm_tot']\n",
    "\n",
    "#creates excel file of count encode and vanillate total values\n",
    "one_hot_columns.to_csv('count encode with vanillate total.csv', index=False)"
   ]
  },
  {
   "cell_type": "code",
   "execution_count": 13,
   "metadata": {},
   "outputs": [
    {
     "name": "stdout",
     "output_type": "stream",
     "text": [
      "     YHR163W  YGL062W  YBR294W  YJR137C  REF  YOR388C  YFL030W  YOR241W  \\\n",
      "0          0        0        0        0    0        0        0        0   \n",
      "1          0        0        0        0    0        0        0        0   \n",
      "2          0        0        0        0    0        0        0        0   \n",
      "3          0        0        0        0    0        0        0        0   \n",
      "4          0        0        0        0    0        0        0        0   \n",
      "..       ...      ...      ...      ...  ...      ...      ...      ...   \n",
      "427        0        0        0        0    1        0        0        0   \n",
      "428        0        0        0        0    1        0        0        0   \n",
      "429        0        0        0        0    1        0        0        0   \n",
      "430        0        0        0        0    1        0        0        0   \n",
      "431        0        0        0        0    1        0        0        0   \n",
      "\n",
      "     YPR167C  YBR084W  ...  YNL241C  YJR060W  YKL001C  YDR502C  YFL018C  \\\n",
      "0          0        0  ...        0        0        0        2        0   \n",
      "1          0        0  ...        0        0        0        2        0   \n",
      "2          0        0  ...        0        0        0        2        0   \n",
      "3          0        0  ...        0        0        0        2        0   \n",
      "4          0        0  ...        0        0        0        2        0   \n",
      "..       ...      ...  ...      ...      ...      ...      ...      ...   \n",
      "427        0        0  ...        0        0        0        0        0   \n",
      "428        0        0  ...        0        0        0        0        0   \n",
      "429        0        0  ...        0        0        0        0        0   \n",
      "430        0        0  ...        0        0        0        0        0   \n",
      "431        0        0  ...        0        0        0        0        0   \n",
      "\n",
      "     YEL046C  YJR010W  YKL029C  YFR030W  Vanillate DAD_G 274nm_tot  \n",
      "0          0        0        0        0                   0.000000  \n",
      "1          0        0        0        0                  13.093634  \n",
      "2          0        0        0        0                  48.268076  \n",
      "3          0        0        0        0                 169.857646  \n",
      "4          0        0        0        0                 569.885377  \n",
      "..       ...      ...      ...      ...                        ...  \n",
      "427        0        0        0        0                 167.105526  \n",
      "428        0        0        0        0                 355.926343  \n",
      "429        0        0        0        0                 663.506796  \n",
      "430        0        0        0        0                3192.759655  \n",
      "431        0        0        0        0                  51.707635  \n",
      "\n",
      "[432 rows x 46 columns]\n"
     ]
    }
   ],
   "source": [
    "print(one_hot_columns)"
   ]
  }
 ],
 "metadata": {
  "kernelspec": {
   "display_name": "ML_for_precision_fermentation-7MdyzI83",
   "language": "python",
   "name": "python3"
  },
  "language_info": {
   "codemirror_mode": {
    "name": "ipython",
    "version": 3
   },
   "file_extension": ".py",
   "mimetype": "text/x-python",
   "name": "python",
   "nbconvert_exporter": "python",
   "pygments_lexer": "ipython3",
   "version": "3.12.7"
  }
 },
 "nbformat": 4,
 "nbformat_minor": 2
}
